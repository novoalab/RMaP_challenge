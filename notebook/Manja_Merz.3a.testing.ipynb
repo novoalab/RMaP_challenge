{
 "cells": [
  {
   "cell_type": "markdown",
   "id": "a31aefd3-743c-42ca-820a-f4add4e90502",
   "metadata": {},
   "source": [
    "# bedRMod format\n",
    "\n",
    "```\n",
    "Col\tBED Field\tType\tValue\tBrief description\n",
    "1\tchrom\tString\t[[:alnum:]_]{1,255}\tChromosome name\n",
    "2\tchromStart\tInt\t[0, 264 − 1]\tFeature start position\n",
    "3\tchromEnd\tInt\t[0, 264 − 1]\tFeature end position\n",
    "4\tname\tString\t[[:alnum:]_]{1,255}\tModification name (MODOMICS short name)\n",
    "5\tscore\tInt\t[0, 1000]\tModification confidence scaled from 0 - 1000\n",
    "6\tstrand\tString\t[-+.]\tFeature strand\n",
    "7\tthickStart\tInt\t[0, 264 − 1]\tThick start position\n",
    "8\tthickEnd\tInt\t[0, 264 − 1]\tThick end position\n",
    "9\titemRgb\tInt,Int,Int\t([0, 255], [0, 255], [0, 255]) | 0\tDisplay color\n",
    "10\tcoverage\tInt\t[0, 2^64 − 1]\tNumber of reads at this position\n",
    "11\tfrequency\tInt\t[0, 100]\tPercentage of modified reads at thi\n",
    "12\trefBase\tChar\t[A, U, G, C, N]\tReference base at this position\n",
    "```"
   ]
  },
  {
   "cell_type": "code",
   "execution_count": 20,
   "id": "c10597ac-6239-46b0-964e-28576d9c2433",
   "metadata": {},
   "outputs": [
    {
     "name": "stdout",
     "output_type": "stream",
     "text": [
      "The autoreload extension is already loaded. To reload it, use:\n",
      "  %reload_ext autoreload\n"
     ]
    }
   ],
   "source": [
    "#%matplotlib inline\n",
    "import joblib\n",
    "import csv, gzip, os, matplotlib.pyplot as plt, numpy as np, pandas as pd, pysam, scipy, sys, joblib, seaborn as sns#; sns.set()\n",
    "from glob import glob\n",
    "from collections import Counter\n",
    "from scipy.stats import stats\n",
    "from datetime import datetime\n",
    "from multiprocessing import Pool\n",
    "\n",
    "%load_ext autoreload\n",
    "%autoreload 2\n",
    "# import modules from src dir\n",
    "sys.path.insert(0, \"/home/lpryszcz/src/nanoRMS3/src\")\n",
    "#import eif_new as iso_new\n",
    "from predict_mods import bam2data, load_data, load_data_single, get_KS, get_revcomp, \\\n",
    "    get_calls, get_regions, get_covered_regions, get_significant_mers, \\\n",
    "    get_classifier, get_freq, GradientBoostingClassifier, random_state, \\\n",
    "    fasta2bases\n",
    "# make sure plots are inline (modPhred uses agg)\n",
    "%matplotlib inline"
   ]
  },
  {
   "cell_type": "code",
   "execution_count": 13,
   "id": "a672f895-176b-41de-87a2-0470d2207bd7",
   "metadata": {},
   "outputs": [
    {
     "data": {
      "text/plain": [
       "243"
      ]
     },
     "execution_count": 13,
     "metadata": {},
     "output_type": "execute_result"
    }
   ],
   "source": [
    "name = \"Y\"\n",
    "color = np.array([255, 0, 0], dtype=\"int\") # RGB\n",
    "\n",
    "rna = True\n",
    "n = 3\n",
    "nn = 1\n",
    "mapq = 15\n",
    "minReads = 1\n",
    "maxReads = 100000\n",
    "\n",
    "dt_shift = 10 # expected shift between center of the pore and motor protein in bases\n",
    "\n",
    "features = [\"si\", \"mp\", \"dt0\", \"dt%s\"%dt_shift] + [\"t%s\"%b for b in \"ACGT\"] # here we don't need TR as TA/C/G/T will capture it all right\n",
    "feature_names = [\"%s_%s\"%(f.upper(), i) for f in features for i in range(-nn, nn+1)]\n",
    "\n",
    "boi, k, n_features = \"T\", 2*n+1, len(feature_names)\n",
    "modelsfn = \"3a.models.%s.%s_mers.%s_features.lzma\"%(boi, k, n_features)\n",
    "mer2clf = joblib.load(modelsfn); len(mer2clf)"
   ]
  },
  {
   "cell_type": "code",
   "execution_count": 38,
   "id": "293d6556-4c9b-481c-9545-e4da56dcb61f",
   "metadata": {},
   "outputs": [
    {
     "data": {
      "text/plain": [
       "'128,0,0'"
      ]
     },
     "execution_count": 38,
     "metadata": {},
     "output_type": "execute_result"
    }
   ],
   "source": [
    "\",\".join(map(str, np.round(color*0.5).astype('int')))"
   ]
  },
  {
   "cell_type": "code",
   "execution_count": 40,
   "id": "58922570-86c7-4234-b87b-befdf527ab7d",
   "metadata": {},
   "outputs": [],
   "source": [
    "fasta = \"/home/lpryszcz/cluster/rna_mods/RMaP_challenge/Manja_Merz/3a/reference/psU_template.fa\" # reference FastA\n",
    "faidx = pysam.FastaFile(fasta)\n",
    "\n",
    "bams = [\"/home/lpryszcz/cluster/rna_mods/RMaP_challenge/Manja_Merz/3a/fast5/testing.bam\", ]\n",
    "sams = [pysam.AlignmentFile(bam) for bam in bams]\n",
    "outs = [open(bam+\".bed\", \"wt\") for bam in bams]\n",
    "\n",
    "only_forward = True\n",
    "max_frac_mod_per_read = 0.3\n",
    "line = \"%s\\t%s\\t%s\\t%s\\t%s\\t%s\\t%s\\t%s\\t%s\\t%s\\t%s\\t%s\\n\"\n",
    "out = sys.stdout\n",
    "for ref, reflen in zip(faidx.references, faidx.lengths):\n",
    "    start, end = 0, reflen\n",
    "    if start<nn: start=nn\n",
    "    parsers = [bam2data(sam, ref, start-nn, end+nn+1, rna, nn, features, mapq=mapq, \n",
    "                        maxDepth=maxReads*3, verbose=False, max_frac_mod_per_read=max_frac_mod_per_read)\n",
    "               for sam in sams]\n",
    "    refparser = fasta2bases(faidx, ref, start, end, n=n)\n",
    "    for ((pos, _, strand, refbase, mer), *calls) in zip(refparser, *parsers):\n",
    "        if mer not in mer2clf: continue\n",
    "        # here we'd need to flip -1, 0, +1 for strand -\n",
    "        if strand==\"-\":\n",
    "            if only_forward: continue\n",
    "            calls = [np.flip(c, axis=2) for c in calls]\n",
    "        sample2data = [np.hstack(c) for c in calls]\n",
    "        refBase = mer[n]\n",
    "        s, e = pos, pos+1\n",
    "        for out, X in zip(outs, sample2data):\n",
    "            mod_freq = y_pred.mean()\n",
    "            y_pred = mer2clf[mer].predict(X)\n",
    "            coverage = len(X)\n",
    "            frequency = int(np.round(100*mod_freq))\n",
    "            # this could be better\n",
    "            score = int(round(max_score * mod_freq)) # 0-1000 scaled\n",
    "            # scale color\n",
    "            c = \",\".join(map(str, np.round(color*mod_freq).astype('int')))\n",
    "            out.write(line%(ref, s, e, name, score, strand, s, e, c, coverage, frequency, refBase))\n",
    "\n",
    "for out in outs: \n",
    "    out.close()"
   ]
  },
  {
   "cell_type": "code",
   "execution_count": null,
   "id": "f38a8690-f119-4bda-aa2d-3cd84947534c",
   "metadata": {},
   "outputs": [],
   "source": []
  }
 ],
 "metadata": {
  "kernelspec": {
   "display_name": "nanorms2",
   "language": "python",
   "name": "nanorms2"
  },
  "language_info": {
   "codemirror_mode": {
    "name": "ipython",
    "version": 3
   },
   "file_extension": ".py",
   "mimetype": "text/x-python",
   "name": "python",
   "nbconvert_exporter": "python",
   "pygments_lexer": "ipython3",
   "version": "3.7.12"
  }
 },
 "nbformat": 4,
 "nbformat_minor": 5
}
