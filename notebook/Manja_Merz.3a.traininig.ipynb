{
 "cells": [
  {
   "cell_type": "code",
   "execution_count": 1,
   "id": "6a960ed9-b801-4b52-9603-2e29386701bc",
   "metadata": {},
   "outputs": [],
   "source": [
    "#%matplotlib inline\n",
    "import joblib\n",
    "import csv, gzip, os, matplotlib.pyplot as plt, numpy as np, pandas as pd, pysam, scipy, sys, joblib, seaborn as sns#; sns.set()\n",
    "from glob import glob\n",
    "from collections import Counter\n",
    "from scipy.stats import stats\n",
    "from datetime import datetime\n",
    "from multiprocessing import Pool\n",
    "\n",
    "%load_ext autoreload\n",
    "%autoreload 2\n",
    "# import modules from src dir\n",
    "sys.path.insert(0, \"/home/lpryszcz/src/nanoRMS3/src\")\n",
    "#import eif_new as iso_new\n",
    "from predict_mods import bam2data, load_data, load_data_single, get_KS, get_revcomp, \\\n",
    "    get_calls, get_regions, get_covered_regions, get_significant_mers, \\\n",
    "    get_classifier, get_freq, GradientBoostingClassifier, random_state\n",
    "# make sure plots are inline (modPhred uses agg)\n",
    "%matplotlib inline"
   ]
  },
  {
   "cell_type": "code",
   "execution_count": 4,
   "id": "ebf58234-09fb-4b1c-b307-31452d62bf9d",
   "metadata": {},
   "outputs": [
    {
     "name": "stdout",
     "output_type": "stream",
     "text": [
      "CPU times: user 1min 51s, sys: 1.85 s, total: 1min 53s\n",
      "Wall time: 1min 53s\n"
     ]
    },
    {
     "data": {
      "text/plain": [
       "(9, dict_keys(['ATA', 'GTA', 'CTC', 'ATG', 'GTG', 'CTA', 'ATC', 'GTC', 'CTG']))"
      ]
     },
     "execution_count": 4,
     "metadata": {},
     "output_type": "execute_result"
    }
   ],
   "source": [
    "%%time\n",
    "import itertools\n",
    "boi = \"T\" # pseudoU\n",
    "n = 1 # n=3 for 7-mer; n=1 for 3-mer; n2 for 5-mer\n",
    "k = 2*n+1\n",
    "bases='ACGT'\n",
    "mers = [\"\".join(m) for m in itertools.product(set(bases), repeat=k)]; len(mers)\n",
    "mers = [m for m in mers if m[n]==boi]; mers.sort(); len(mers)\n",
    "#mers = [\"A\"*n+\"T\"+\"A\"*n, ]\n",
    "\n",
    "# initially get only most interesting mers using 3 features and ignoring neighbours\n",
    "nn = 1 # how many neighbour positions to take into account\n",
    "dt_shift = 10 # expected shift between center of the pore and motor protein in bases\n",
    "minReads = 10 # min number of reads (per strand) to keep position\n",
    "# define features\n",
    "#features = [\"si\", \"tr\"] # TR needed here\n",
    "features = [\"si\", \"mp\", \"dt0\", \"dt%s\"%dt_shift] + [\"t%s\"%b for b in \"ACGT\"] # here we don't need TR as TA/C/G/T will capture it all right\n",
    "feature_names = [\"%s_%s\"%(f.upper(), i) for f in features for i in range(-nn, nn+1)]\n",
    "\n",
    "threads=6; rna=True\n",
    "fasta = \"/home/lpryszcz/cluster/rna_mods/RMaP_challenge/Manja_Merz/3a/reference/psU_template.fa\" # reference FastA\n",
    "regions = get_regions(fasta)\n",
    "\n",
    "samples = (\"unmod\", \"mod\")\n",
    "bams = [\"/home/lpryszcz/cluster/rna_mods/RMaP_challenge/Manja_Merz/3a/fast5/training_control.bam\", \n",
    "        \"/home/lpryszcz/cluster/rna_mods/RMaP_challenge/Manja_Merz/3a/fast5/training_mod.bam\"\n",
    "        ]\n",
    "mer2data = load_data_single(fasta, bams, features, nn, rna, regions, minReads, maxReads=50000, mers=mers, n=n, \n",
    "                            max_frac_mod_per_read=.3, only_forward=True)\n",
    "len(mer2data), mer2data.keys()"
   ]
  },
  {
   "cell_type": "code",
   "execution_count": 3,
   "id": "9b748080-a787-47db-9eb9-628bb65ca3a5",
   "metadata": {
    "scrolled": true
   },
   "outputs": [
    {
     "name": "stdout",
     "output_type": "stream",
     "text": [
      "ATA\t2361663\t0.841\n",
      "ATC\t2410369\t0.831\n",
      "ATG\t2412990\t0.894\n",
      "CTA\t2411757\t0.873\n",
      "CTC\t2345115\t0.859\n",
      "CTG\t2400348\t0.829\n",
      "GTA\t2396206\t0.883\n",
      "GTC\t2411929\t0.889\n",
      "GTG\t2386573\t0.864\n",
      "0.864\t0.862\n",
      "CPU times: user 21min 30s, sys: 1.45 s, total: 21min 32s\n",
      "Wall time: 2min 41s\n"
     ]
    },
    {
     "data": {
      "text/plain": [
       "['3a.models.T.3_mers.24_features.lzma']"
      ]
     },
     "execution_count": 3,
     "metadata": {},
     "output_type": "execute_result"
    }
   ],
   "source": [
    "%%time\n",
    "from sklearn.ensemble import HistGradientBoostingClassifier\n",
    "\n",
    "mer2clf = {}\n",
    "for mer in sorted(mer2data.keys()):\n",
    "    X = np.vstack(mer2data[mer][:2])#; print(mer, X.shape)\n",
    "    y = np.zeros(len(X), dtype=\"int\")\n",
    "    y[len(X)//2:] = 1\n",
    "    # use every 10th example for testing\n",
    "    sel = np.zeros(len(X), dtype=\"bool\")\n",
    "    sel[::10] = True\n",
    "    clf = HistGradientBoostingClassifier().fit(X[~sel], y[~sel])\n",
    "    y_pred = clf.predict(X[sel])\n",
    "    clf.nn = nn\n",
    "    clf.acc = np.mean(y_pred == y[sel])\n",
    "    clf.features = features\n",
    "    clf.feature_names = feature_names\n",
    "    mer2clf[mer] = clf\n",
    "    clf.features = features\n",
    "    print(\"%s\\t%s\\t%.3f\"%(mer, len(y[~sel]), clf.acc))\n",
    "\n",
    "acc =np.array([clf.acc for mer, clf in mer2clf.items()])\n",
    "print(\"%.3f\\t%.3f\"%(np.median(acc), acc.mean()))\n",
    "\n",
    "modelsfn = \"3a.models.%s.%s_mers.%s_features.lzma\"%(boi, k, len(feature_names))\n",
    "joblib.dump(mer2clf, modelsfn)\n",
    "# 0.840 vs 0.801 GBC ATA 18s vs 16:47\n",
    "# 0.898 vs 0.873 GBC AATAA 2s vs 1:23\n",
    "# 0.890 vs 0.870 GBC AAATAAA"
   ]
  },
  {
   "cell_type": "code",
   "execution_count": 4,
   "id": "f0b6716a-5863-4701-89f3-36e2a3739b44",
   "metadata": {},
   "outputs": [
    {
     "name": "stdout",
     "output_type": "stream",
     "text": [
      "1.72 ms ± 75.7 µs per loop (mean ± std. dev. of 7 runs, 1000 loops each)\n"
     ]
    }
   ],
   "source": [
    "%timeit clf.predict(X[:1]) # HistGBC 1.61 ms ± 53.2 µs"
   ]
  },
  {
   "cell_type": "code",
   "execution_count": 5,
   "id": "ed888506-edab-43d8-86c2-c5346216176a",
   "metadata": {},
   "outputs": [
    {
     "name": "stdout",
     "output_type": "stream",
     "text": [
      "CPU times: user 16min 47s, sys: 225 ms, total: 16min 47s\n",
      "Wall time: 16min 47s\n"
     ]
    },
    {
     "data": {
      "text/plain": [
       "0.8019488809368652"
      ]
     },
     "execution_count": 5,
     "metadata": {},
     "output_type": "execute_result"
    }
   ],
   "source": [
    "%%time \n",
    "clf = GradientBoostingClassifier().fit(X[~sel], y[~sel])\n",
    "y_pred = clf.predict(X[sel])\n",
    "np.mean(y_pred == y[sel])\n",
    "%timeit clf.predict(X[:1]) # GBC 153 µs ± 619 ns"
   ]
  },
  {
   "cell_type": "code",
   "execution_count": 7,
   "id": "88d75492-3cca-41de-8f46-b4803d5575d9",
   "metadata": {},
   "outputs": [
    {
     "name": "stdout",
     "output_type": "stream",
     "text": [
      "148 µs ± 594 ns per loop (mean ± std. dev. of 7 runs, 10000 loops each)\n",
      "CPU times: user 12 s, sys: 14 µs, total: 12 s\n",
      "Wall time: 12 s\n"
     ]
    }
   ],
   "source": [
    "%%time\n",
    "%timeit clf.predict(X[:1]) # GBC 153 µs ± 619 ns"
   ]
  },
  {
   "cell_type": "code",
   "execution_count": null,
   "id": "8ab7ed06-d8f9-416b-8874-8080bf2ca60c",
   "metadata": {},
   "outputs": [],
   "source": []
  }
 ],
 "metadata": {
  "kernelspec": {
   "display_name": "nanorms2",
   "language": "python",
   "name": "nanorms2"
  },
  "language_info": {
   "codemirror_mode": {
    "name": "ipython",
    "version": 3
   },
   "file_extension": ".py",
   "mimetype": "text/x-python",
   "name": "python",
   "nbconvert_exporter": "python",
   "pygments_lexer": "ipython3",
   "version": "3.7.12"
  }
 },
 "nbformat": 4,
 "nbformat_minor": 5
}
